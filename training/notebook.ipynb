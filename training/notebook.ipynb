{
  "nbformat": 4,
  "nbformat_minor": 0,
  "metadata": {
    "interpreter": {
      "hash": "31f2aee4e71d21fbe5cf8b01ff0e069b9275f58929596ceb00d14d90e3e16cd6"
    },
    "kernelspec": {
      "display_name": "Python 3",
      "language": "python",
      "name": "python3"
    },
    "language_info": {
      "codemirror_mode": {
        "name": "ipython",
        "version": 3
      },
      "file_extension": ".py",
      "mimetype": "text/x-python",
      "name": "python",
      "nbconvert_exporter": "python",
      "pygments_lexer": "ipython3",
      "version": "3.8.8"
    },
    "colab": {
      "name": "notebook.ipynb",
      "provenance": [],
      "collapsed_sections": []
    },
    "accelerator": "GPU"
  },
  "cells": [
    {
      "cell_type": "code",
      "metadata": {
        "id": "6sRDPpqgjLaq"
      },
      "source": [
        "import tensorflow as tf\n",
        "from tensorflow.keras.callbacks import EarlyStopping\n",
        "from tensorflow.keras.models import Sequential\n",
        "from tensorflow.keras.layers import Dense,Flatten,Conv2D,MaxPool2D,Dropout\n",
        "import matplotlib.pyplot as plt\n",
        "import tensorflowjs as tfjs"
      ],
      "execution_count": 52,
      "outputs": []
    },
    {
      "cell_type": "code",
      "metadata": {
        "id": "VXbwuOCgjLat"
      },
      "source": [
        "mnist = tf.keras.datasets.mnist\n",
        "(x_train, y_train),(x_valid, y_valid) = mnist.load_data()"
      ],
      "execution_count": 53,
      "outputs": []
    },
    {
      "cell_type": "code",
      "metadata": {
        "id": "VgZCDk4MjLav"
      },
      "source": [
        "x_train = x_train.reshape((x_train.shape[0], 28, 28, 1))\n",
        "x_valid = x_valid.reshape((x_valid.shape[0], 28, 28, 1))\n",
        "x_train = tf.keras.utils.normalize(x_train, axis=1)\n",
        "x_valid = tf.keras.utils.normalize(x_valid, axis=1)\n",
        "y_train = tf.keras.utils.to_categorical(y_train)\n",
        "y_valid = tf.keras.utils.to_categorical(y_valid)"
      ],
      "execution_count": 54,
      "outputs": []
    },
    {
      "cell_type": "code",
      "metadata": {
        "id": "y-owTjkAjLaw"
      },
      "source": [
        "model = Sequential()"
      ],
      "execution_count": 55,
      "outputs": []
    },
    {
      "cell_type": "code",
      "metadata": {
        "id": "ZikFVO42jLax"
      },
      "source": [
        "model.add(Conv2D(filters = 32, kernel_size = (5,5),padding = 'Same', \n",
        "                 activation ='relu', input_shape = (28,28,1)))\n",
        "model.add(Conv2D(filters = 32, kernel_size = (5,5),padding = 'Same', \n",
        "                 activation ='relu'))\n",
        "model.add(MaxPool2D(pool_size=(2,2)))\n",
        "model.add(Dropout(0.25))\n",
        "\n",
        "model.add(Conv2D(filters = 64, kernel_size = (3,3),padding = 'Same', \n",
        "                 activation ='relu'))\n",
        "model.add(Conv2D(filters = 64, kernel_size = (3,3),padding = 'Same', \n",
        "                 activation ='relu'))\n",
        "model.add(MaxPool2D(pool_size=(2,2), strides=(2,2)))\n",
        "model.add(Dropout(0.25))\n",
        "\n",
        "model.add(Flatten())\n",
        "model.add(Dense(256, activation = \"relu\"))\n",
        "model.add(Dropout(0.5))\n",
        "model.add(Dense(10, activation = \"softmax\"))"
      ],
      "execution_count": 56,
      "outputs": []
    },
    {
      "cell_type": "code",
      "metadata": {
        "id": "O1jGvDVdjLay"
      },
      "source": [
        "model.compile(optimizer='adam',\n",
        "              loss='categorical_crossentropy',\n",
        "              metrics=['accuracy'])\n",
        "early_stopping = EarlyStopping(min_delta=.001,\n",
        "                               restore_best_weights=True,\n",
        "                               patience=20,\n",
        "                               verbose=1)"
      ],
      "execution_count": 57,
      "outputs": []
    },
    {
      "cell_type": "code",
      "metadata": {
        "colab": {
          "base_uri": "https://localhost:8080/"
        },
        "id": "lZumOTVCjLaz",
        "outputId": "76ed1b70-d09f-401b-c04f-bdc7069879df"
      },
      "source": [
        "model.summary()"
      ],
      "execution_count": 58,
      "outputs": [
        {
          "output_type": "stream",
          "text": [
            "Model: \"sequential_4\"\n",
            "_________________________________________________________________\n",
            "Layer (type)                 Output Shape              Param #   \n",
            "=================================================================\n",
            "conv2d_6 (Conv2D)            (None, 28, 28, 32)        832       \n",
            "_________________________________________________________________\n",
            "conv2d_7 (Conv2D)            (None, 28, 28, 32)        25632     \n",
            "_________________________________________________________________\n",
            "max_pooling2d_3 (MaxPooling2 (None, 14, 14, 32)        0         \n",
            "_________________________________________________________________\n",
            "dropout (Dropout)            (None, 14, 14, 32)        0         \n",
            "_________________________________________________________________\n",
            "conv2d_8 (Conv2D)            (None, 14, 14, 64)        18496     \n",
            "_________________________________________________________________\n",
            "conv2d_9 (Conv2D)            (None, 14, 14, 64)        36928     \n",
            "_________________________________________________________________\n",
            "max_pooling2d_4 (MaxPooling2 (None, 7, 7, 64)          0         \n",
            "_________________________________________________________________\n",
            "dropout_1 (Dropout)          (None, 7, 7, 64)          0         \n",
            "_________________________________________________________________\n",
            "flatten_3 (Flatten)          (None, 3136)              0         \n",
            "_________________________________________________________________\n",
            "dense_3 (Dense)              (None, 256)               803072    \n",
            "_________________________________________________________________\n",
            "dropout_2 (Dropout)          (None, 256)               0         \n",
            "_________________________________________________________________\n",
            "dense_4 (Dense)              (None, 10)                2570      \n",
            "=================================================================\n",
            "Total params: 887,530\n",
            "Trainable params: 887,530\n",
            "Non-trainable params: 0\n",
            "_________________________________________________________________\n"
          ],
          "name": "stdout"
        }
      ]
    },
    {
      "cell_type": "code",
      "metadata": {
        "colab": {
          "base_uri": "https://localhost:8080/"
        },
        "id": "EEEfl4PqjLa0",
        "outputId": "cafc8344-fa8f-4127-c6fd-659140783c67"
      },
      "source": [
        "history = model.fit(x_train,y_train,\n",
        "          epochs=1000,\n",
        "          validation_data=(x_valid, y_valid),\n",
        "          callbacks=[early_stopping])"
      ],
      "execution_count": 59,
      "outputs": [
        {
          "output_type": "stream",
          "text": [
            "Epoch 1/1000\n",
            "1875/1875 [==============================] - 9s 5ms/step - loss: 0.1816 - accuracy: 0.9431 - val_loss: 0.0431 - val_accuracy: 0.9865\n",
            "Epoch 2/1000\n",
            "1875/1875 [==============================] - 8s 4ms/step - loss: 0.0719 - accuracy: 0.9779 - val_loss: 0.0499 - val_accuracy: 0.9841\n",
            "Epoch 3/1000\n",
            "1875/1875 [==============================] - 8s 4ms/step - loss: 0.0545 - accuracy: 0.9836 - val_loss: 0.0256 - val_accuracy: 0.9930\n",
            "Epoch 4/1000\n",
            "1875/1875 [==============================] - 8s 5ms/step - loss: 0.0439 - accuracy: 0.9868 - val_loss: 0.0216 - val_accuracy: 0.9929\n",
            "Epoch 5/1000\n",
            "1875/1875 [==============================] - 8s 4ms/step - loss: 0.0391 - accuracy: 0.9882 - val_loss: 0.0192 - val_accuracy: 0.9939\n",
            "Epoch 6/1000\n",
            "1875/1875 [==============================] - 8s 4ms/step - loss: 0.0347 - accuracy: 0.9894 - val_loss: 0.0240 - val_accuracy: 0.9936\n",
            "Epoch 7/1000\n",
            "1875/1875 [==============================] - 8s 4ms/step - loss: 0.0308 - accuracy: 0.9903 - val_loss: 0.0227 - val_accuracy: 0.9922\n",
            "Epoch 8/1000\n",
            "1875/1875 [==============================] - 8s 4ms/step - loss: 0.0295 - accuracy: 0.9904 - val_loss: 0.0224 - val_accuracy: 0.9932\n",
            "Epoch 9/1000\n",
            "1875/1875 [==============================] - 8s 5ms/step - loss: 0.0288 - accuracy: 0.9915 - val_loss: 0.0218 - val_accuracy: 0.9934\n",
            "Epoch 10/1000\n",
            "1875/1875 [==============================] - 8s 4ms/step - loss: 0.0249 - accuracy: 0.9921 - val_loss: 0.0254 - val_accuracy: 0.9936\n",
            "Epoch 11/1000\n",
            "1875/1875 [==============================] - 8s 5ms/step - loss: 0.0239 - accuracy: 0.9926 - val_loss: 0.0276 - val_accuracy: 0.9930\n",
            "Epoch 12/1000\n",
            "1875/1875 [==============================] - 8s 4ms/step - loss: 0.0246 - accuracy: 0.9922 - val_loss: 0.0215 - val_accuracy: 0.9937\n",
            "Epoch 13/1000\n",
            "1875/1875 [==============================] - 8s 4ms/step - loss: 0.0219 - accuracy: 0.9937 - val_loss: 0.0216 - val_accuracy: 0.9945\n",
            "Epoch 14/1000\n",
            "1875/1875 [==============================] - 8s 4ms/step - loss: 0.0204 - accuracy: 0.9936 - val_loss: 0.0238 - val_accuracy: 0.9937\n",
            "Epoch 15/1000\n",
            "1875/1875 [==============================] - 8s 4ms/step - loss: 0.0214 - accuracy: 0.9933 - val_loss: 0.0251 - val_accuracy: 0.9940\n",
            "Epoch 16/1000\n",
            "1875/1875 [==============================] - 8s 4ms/step - loss: 0.0199 - accuracy: 0.9940 - val_loss: 0.0237 - val_accuracy: 0.9938\n",
            "Epoch 17/1000\n",
            "1875/1875 [==============================] - 8s 4ms/step - loss: 0.0198 - accuracy: 0.9942 - val_loss: 0.0229 - val_accuracy: 0.9942\n",
            "Epoch 18/1000\n",
            "1875/1875 [==============================] - 8s 4ms/step - loss: 0.0201 - accuracy: 0.9938 - val_loss: 0.0258 - val_accuracy: 0.9940\n",
            "Epoch 19/1000\n",
            "1875/1875 [==============================] - 9s 5ms/step - loss: 0.0177 - accuracy: 0.9945 - val_loss: 0.0234 - val_accuracy: 0.9938\n",
            "Epoch 20/1000\n",
            "1875/1875 [==============================] - 9s 5ms/step - loss: 0.0206 - accuracy: 0.9939 - val_loss: 0.0231 - val_accuracy: 0.9932\n",
            "Epoch 21/1000\n",
            "1875/1875 [==============================] - 9s 5ms/step - loss: 0.0177 - accuracy: 0.9949 - val_loss: 0.0279 - val_accuracy: 0.9939\n",
            "Epoch 22/1000\n",
            "1875/1875 [==============================] - 9s 5ms/step - loss: 0.0188 - accuracy: 0.9943 - val_loss: 0.0268 - val_accuracy: 0.9947\n",
            "Epoch 23/1000\n",
            "1875/1875 [==============================] - 8s 4ms/step - loss: 0.0173 - accuracy: 0.9948 - val_loss: 0.0245 - val_accuracy: 0.9946\n",
            "Epoch 24/1000\n",
            "1875/1875 [==============================] - 8s 4ms/step - loss: 0.0183 - accuracy: 0.9947 - val_loss: 0.0319 - val_accuracy: 0.9936\n",
            "Epoch 25/1000\n",
            "1875/1875 [==============================] - 8s 4ms/step - loss: 0.0194 - accuracy: 0.9944 - val_loss: 0.0256 - val_accuracy: 0.9947\n",
            "Restoring model weights from the end of the best epoch.\n",
            "Epoch 00025: early stopping\n"
          ],
          "name": "stdout"
        }
      ]
    },
    {
      "cell_type": "code",
      "metadata": {
        "colab": {
          "base_uri": "https://localhost:8080/"
        },
        "id": "fmTLKh3JjLa1",
        "outputId": "e3a0ca29-070a-4c52-f9a6-cd7c86dcd000"
      },
      "source": [
        "model.evaluate(x_valid, y_valid)"
      ],
      "execution_count": 60,
      "outputs": [
        {
          "output_type": "stream",
          "text": [
            "313/313 [==============================] - 1s 3ms/step - loss: 0.0192 - accuracy: 0.9939\n"
          ],
          "name": "stdout"
        },
        {
          "output_type": "execute_result",
          "data": {
            "text/plain": [
              "[0.019244667142629623, 0.9939000010490417]"
            ]
          },
          "metadata": {},
          "execution_count": 60
        }
      ]
    },
    {
      "cell_type": "code",
      "metadata": {
        "colab": {
          "base_uri": "https://localhost:8080/",
          "height": 573
        },
        "id": "Hk6GQSuTohc1",
        "outputId": "d4e7b584-4fd2-43a9-855b-c299cf302b82"
      },
      "source": [
        "plt.plot(history.history['accuracy'])\n",
        "plt.plot(history.history['val_accuracy'])\n",
        "plt.title('model accuracy')\n",
        "plt.ylabel('accuracy')\n",
        "plt.xlabel('epoch')\n",
        "plt.legend(['train', 'validation'], loc='upper left')\n",
        "plt.show()\n",
        "# \"Loss\"\n",
        "plt.plot(history.history['loss'])\n",
        "plt.plot(history.history['val_loss'])\n",
        "plt.title('model loss')\n",
        "plt.ylabel('loss')\n",
        "plt.xlabel('epoch')\n",
        "plt.legend(['train', 'validation'], loc='upper left')\n",
        "plt.show()"
      ],
      "execution_count": 61,
      "outputs": [
        {
          "output_type": "display_data",
          "data": {
            "image/png": "[encoded data removed]",
            "text/plain": [
              "<Figure size 432x288 with 1 Axes>"
            ]
          },
          "metadata": {
            "needs_background": "light"
          }
        },
        {
          "output_type": "display_data",
          "data": {
            "image/png": "[encoded data removed]",
            "text/plain": [
              "<Figure size 432x288 with 1 Axes>"
            ]
          },
          "metadata": {
            "needs_background": "light"
          }
        }
      ]
    },
    {
      "cell_type": "code",
      "metadata": {
        "colab": {
          "base_uri": "https://localhost:8080/"
        },
        "id": "0rIu1yoRjLa3",
        "outputId": "b6aa67a1-fa93-44df-cfc9-bca3e39de906"
      },
      "source": [
        "model.save('python_result.model')"
      ],
      "execution_count": 62,
      "outputs": [
        {
          "output_type": "stream",
          "text": [
            "INFO:tensorflow:Assets written to: python_result.model/assets\n"
          ],
          "name": "stdout"
        }
      ]
    },
    {
      "cell_type": "code",
      "metadata": {
        "id": "GKQkivR8jLa4"
      },
      "source": [
        "tfjs.converters.save_keras_model(model, 'tfjs-model')"
      ],
      "execution_count": 63,
      "outputs": []
    },
    {
      "cell_type": "code",
      "metadata": {
        "id": "gaQYrGZflqKU"
      },
      "source": [
        ""
      ],
      "execution_count": 63,
      "outputs": []
    }
  ]
}
